{
  "nbformat": 4,
  "nbformat_minor": 0,
  "metadata": {
    "colab": {
      "provenance": [],
      "gpuType": "T4"
    },
    "kernelspec": {
      "name": "python3",
      "display_name": "Python 3"
    },
    "language_info": {
      "name": "python"
    },
    "accelerator": "GPU"
  },
  "cells": [
    {
      "cell_type": "code",
      "execution_count": 1,
      "metadata": {
        "id": "NSCeHQWTPNCy",
        "colab": {
          "base_uri": "https://localhost:8080/"
        },
        "outputId": "09e5f27b-ab58-4fbd-e1c3-681a3fd2d475"
      },
      "outputs": [
        {
          "output_type": "stream",
          "name": "stdout",
          "text": [
            "GPU is available and ready to use: Tesla T4\n"
          ]
        }
      ],
      "source": [
        "import torch\n",
        "\n",
        "if torch.cuda.is_available():\n",
        "    device = torch.device(\"cuda\")\n",
        "    print(\"GPU is available and ready to use:\", torch.cuda.get_device_name(device))\n",
        "else:\n",
        "    device = torch.device(\"cpu\")\n",
        "    print(\"GPU not available, using CPU instead.\")"
      ]
    },
    {
      "cell_type": "code",
      "source": [
        "!pip install transformers gtts moviepy pdfminer.six\n",
        "!pip install tensorflow\n",
        "!pip install keras\n",
        "!pip install PyPDF2\n",
        "!sudo apt-get install espeak # Install the eSpeak TTS engine"
      ],
      "metadata": {
        "colab": {
          "base_uri": "https://localhost:8080/"
        },
        "collapsed": true,
        "id": "O4aT_aJXR55K",
        "outputId": "a6bf38ad-086b-4335-d8ae-484f46505780"
      },
      "execution_count": 2,
      "outputs": [
        {
          "output_type": "stream",
          "name": "stdout",
          "text": [
            "Requirement already satisfied: transformers in /usr/local/lib/python3.10/dist-packages (4.42.4)\n",
            "Collecting gtts\n",
            "  Downloading gTTS-2.5.2-py3-none-any.whl.metadata (4.1 kB)\n",
            "Requirement already satisfied: moviepy in /usr/local/lib/python3.10/dist-packages (1.0.3)\n",
            "Collecting pdfminer.six\n",
            "  Downloading pdfminer.six-20240706-py3-none-any.whl.metadata (4.1 kB)\n",
            "Requirement already satisfied: filelock in /usr/local/lib/python3.10/dist-packages (from transformers) (3.15.4)\n",
            "Requirement already satisfied: huggingface-hub<1.0,>=0.23.2 in /usr/local/lib/python3.10/dist-packages (from transformers) (0.23.5)\n",
            "Requirement already satisfied: numpy<2.0,>=1.17 in /usr/local/lib/python3.10/dist-packages (from transformers) (1.26.4)\n",
            "Requirement already satisfied: packaging>=20.0 in /usr/local/lib/python3.10/dist-packages (from transformers) (24.1)\n",
            "Requirement already satisfied: pyyaml>=5.1 in /usr/local/lib/python3.10/dist-packages (from transformers) (6.0.2)\n",
            "Requirement already satisfied: regex!=2019.12.17 in /usr/local/lib/python3.10/dist-packages (from transformers) (2024.5.15)\n",
            "Requirement already satisfied: requests in /usr/local/lib/python3.10/dist-packages (from transformers) (2.32.3)\n",
            "Requirement already satisfied: safetensors>=0.4.1 in /usr/local/lib/python3.10/dist-packages (from transformers) (0.4.4)\n",
            "Requirement already satisfied: tokenizers<0.20,>=0.19 in /usr/local/lib/python3.10/dist-packages (from transformers) (0.19.1)\n",
            "Requirement already satisfied: tqdm>=4.27 in /usr/local/lib/python3.10/dist-packages (from transformers) (4.66.5)\n",
            "Requirement already satisfied: click<8.2,>=7.1 in /usr/local/lib/python3.10/dist-packages (from gtts) (8.1.7)\n",
            "Requirement already satisfied: decorator<5.0,>=4.0.2 in /usr/local/lib/python3.10/dist-packages (from moviepy) (4.4.2)\n",
            "Requirement already satisfied: proglog<=1.0.0 in /usr/local/lib/python3.10/dist-packages (from moviepy) (0.1.10)\n",
            "Requirement already satisfied: imageio<3.0,>=2.5 in /usr/local/lib/python3.10/dist-packages (from moviepy) (2.34.2)\n",
            "Requirement already satisfied: imageio-ffmpeg>=0.2.0 in /usr/local/lib/python3.10/dist-packages (from moviepy) (0.5.1)\n",
            "Requirement already satisfied: charset-normalizer>=2.0.0 in /usr/local/lib/python3.10/dist-packages (from pdfminer.six) (3.3.2)\n",
            "Requirement already satisfied: cryptography>=36.0.0 in /usr/local/lib/python3.10/dist-packages (from pdfminer.six) (42.0.8)\n",
            "Requirement already satisfied: cffi>=1.12 in /usr/local/lib/python3.10/dist-packages (from cryptography>=36.0.0->pdfminer.six) (1.17.0)\n",
            "Requirement already satisfied: fsspec>=2023.5.0 in /usr/local/lib/python3.10/dist-packages (from huggingface-hub<1.0,>=0.23.2->transformers) (2024.6.1)\n",
            "Requirement already satisfied: typing-extensions>=3.7.4.3 in /usr/local/lib/python3.10/dist-packages (from huggingface-hub<1.0,>=0.23.2->transformers) (4.12.2)\n",
            "Requirement already satisfied: pillow>=8.3.2 in /usr/local/lib/python3.10/dist-packages (from imageio<3.0,>=2.5->moviepy) (9.4.0)\n",
            "Requirement already satisfied: setuptools in /usr/local/lib/python3.10/dist-packages (from imageio-ffmpeg>=0.2.0->moviepy) (71.0.4)\n",
            "Requirement already satisfied: idna<4,>=2.5 in /usr/local/lib/python3.10/dist-packages (from requests->transformers) (3.7)\n",
            "Requirement already satisfied: urllib3<3,>=1.21.1 in /usr/local/lib/python3.10/dist-packages (from requests->transformers) (2.0.7)\n",
            "Requirement already satisfied: certifi>=2017.4.17 in /usr/local/lib/python3.10/dist-packages (from requests->transformers) (2024.7.4)\n",
            "Requirement already satisfied: pycparser in /usr/local/lib/python3.10/dist-packages (from cffi>=1.12->cryptography>=36.0.0->pdfminer.six) (2.22)\n",
            "Downloading gTTS-2.5.2-py3-none-any.whl (29 kB)\n",
            "Downloading pdfminer.six-20240706-py3-none-any.whl (5.6 MB)\n",
            "\u001b[2K   \u001b[90m━━━━━━━━━━━━━━━━━━━━━━━━━━━━━━━━━━━━━━━━\u001b[0m \u001b[32m5.6/5.6 MB\u001b[0m \u001b[31m54.5 MB/s\u001b[0m eta \u001b[36m0:00:00\u001b[0m\n",
            "\u001b[?25hInstalling collected packages: gtts, pdfminer.six\n",
            "Successfully installed gtts-2.5.2 pdfminer.six-20240706\n",
            "Requirement already satisfied: tensorflow in /usr/local/lib/python3.10/dist-packages (2.17.0)\n",
            "Requirement already satisfied: absl-py>=1.0.0 in /usr/local/lib/python3.10/dist-packages (from tensorflow) (1.4.0)\n",
            "Requirement already satisfied: astunparse>=1.6.0 in /usr/local/lib/python3.10/dist-packages (from tensorflow) (1.6.3)\n",
            "Requirement already satisfied: flatbuffers>=24.3.25 in /usr/local/lib/python3.10/dist-packages (from tensorflow) (24.3.25)\n",
            "Requirement already satisfied: gast!=0.5.0,!=0.5.1,!=0.5.2,>=0.2.1 in /usr/local/lib/python3.10/dist-packages (from tensorflow) (0.6.0)\n",
            "Requirement already satisfied: google-pasta>=0.1.1 in /usr/local/lib/python3.10/dist-packages (from tensorflow) (0.2.0)\n",
            "Requirement already satisfied: h5py>=3.10.0 in /usr/local/lib/python3.10/dist-packages (from tensorflow) (3.11.0)\n",
            "Requirement already satisfied: libclang>=13.0.0 in /usr/local/lib/python3.10/dist-packages (from tensorflow) (18.1.1)\n",
            "Requirement already satisfied: ml-dtypes<0.5.0,>=0.3.1 in /usr/local/lib/python3.10/dist-packages (from tensorflow) (0.4.0)\n",
            "Requirement already satisfied: opt-einsum>=2.3.2 in /usr/local/lib/python3.10/dist-packages (from tensorflow) (3.3.0)\n",
            "Requirement already satisfied: packaging in /usr/local/lib/python3.10/dist-packages (from tensorflow) (24.1)\n",
            "Requirement already satisfied: protobuf!=4.21.0,!=4.21.1,!=4.21.2,!=4.21.3,!=4.21.4,!=4.21.5,<5.0.0dev,>=3.20.3 in /usr/local/lib/python3.10/dist-packages (from tensorflow) (3.20.3)\n",
            "Requirement already satisfied: requests<3,>=2.21.0 in /usr/local/lib/python3.10/dist-packages (from tensorflow) (2.32.3)\n",
            "Requirement already satisfied: setuptools in /usr/local/lib/python3.10/dist-packages (from tensorflow) (71.0.4)\n",
            "Requirement already satisfied: six>=1.12.0 in /usr/local/lib/python3.10/dist-packages (from tensorflow) (1.16.0)\n",
            "Requirement already satisfied: termcolor>=1.1.0 in /usr/local/lib/python3.10/dist-packages (from tensorflow) (2.4.0)\n",
            "Requirement already satisfied: typing-extensions>=3.6.6 in /usr/local/lib/python3.10/dist-packages (from tensorflow) (4.12.2)\n",
            "Requirement already satisfied: wrapt>=1.11.0 in /usr/local/lib/python3.10/dist-packages (from tensorflow) (1.16.0)\n",
            "Requirement already satisfied: grpcio<2.0,>=1.24.3 in /usr/local/lib/python3.10/dist-packages (from tensorflow) (1.64.1)\n",
            "Requirement already satisfied: tensorboard<2.18,>=2.17 in /usr/local/lib/python3.10/dist-packages (from tensorflow) (2.17.0)\n",
            "Requirement already satisfied: keras>=3.2.0 in /usr/local/lib/python3.10/dist-packages (from tensorflow) (3.4.1)\n",
            "Requirement already satisfied: tensorflow-io-gcs-filesystem>=0.23.1 in /usr/local/lib/python3.10/dist-packages (from tensorflow) (0.37.1)\n",
            "Requirement already satisfied: numpy<2.0.0,>=1.23.5 in /usr/local/lib/python3.10/dist-packages (from tensorflow) (1.26.4)\n",
            "Requirement already satisfied: wheel<1.0,>=0.23.0 in /usr/local/lib/python3.10/dist-packages (from astunparse>=1.6.0->tensorflow) (0.44.0)\n",
            "Requirement already satisfied: rich in /usr/local/lib/python3.10/dist-packages (from keras>=3.2.0->tensorflow) (13.7.1)\n",
            "Requirement already satisfied: namex in /usr/local/lib/python3.10/dist-packages (from keras>=3.2.0->tensorflow) (0.0.8)\n",
            "Requirement already satisfied: optree in /usr/local/lib/python3.10/dist-packages (from keras>=3.2.0->tensorflow) (0.12.1)\n",
            "Requirement already satisfied: charset-normalizer<4,>=2 in /usr/local/lib/python3.10/dist-packages (from requests<3,>=2.21.0->tensorflow) (3.3.2)\n",
            "Requirement already satisfied: idna<4,>=2.5 in /usr/local/lib/python3.10/dist-packages (from requests<3,>=2.21.0->tensorflow) (3.7)\n",
            "Requirement already satisfied: urllib3<3,>=1.21.1 in /usr/local/lib/python3.10/dist-packages (from requests<3,>=2.21.0->tensorflow) (2.0.7)\n",
            "Requirement already satisfied: certifi>=2017.4.17 in /usr/local/lib/python3.10/dist-packages (from requests<3,>=2.21.0->tensorflow) (2024.7.4)\n",
            "Requirement already satisfied: markdown>=2.6.8 in /usr/local/lib/python3.10/dist-packages (from tensorboard<2.18,>=2.17->tensorflow) (3.6)\n",
            "Requirement already satisfied: tensorboard-data-server<0.8.0,>=0.7.0 in /usr/local/lib/python3.10/dist-packages (from tensorboard<2.18,>=2.17->tensorflow) (0.7.2)\n",
            "Requirement already satisfied: werkzeug>=1.0.1 in /usr/local/lib/python3.10/dist-packages (from tensorboard<2.18,>=2.17->tensorflow) (3.0.3)\n",
            "Requirement already satisfied: MarkupSafe>=2.1.1 in /usr/local/lib/python3.10/dist-packages (from werkzeug>=1.0.1->tensorboard<2.18,>=2.17->tensorflow) (2.1.5)\n",
            "Requirement already satisfied: markdown-it-py>=2.2.0 in /usr/local/lib/python3.10/dist-packages (from rich->keras>=3.2.0->tensorflow) (3.0.0)\n",
            "Requirement already satisfied: pygments<3.0.0,>=2.13.0 in /usr/local/lib/python3.10/dist-packages (from rich->keras>=3.2.0->tensorflow) (2.16.1)\n",
            "Requirement already satisfied: mdurl~=0.1 in /usr/local/lib/python3.10/dist-packages (from markdown-it-py>=2.2.0->rich->keras>=3.2.0->tensorflow) (0.1.2)\n",
            "Requirement already satisfied: keras in /usr/local/lib/python3.10/dist-packages (3.4.1)\n",
            "Requirement already satisfied: absl-py in /usr/local/lib/python3.10/dist-packages (from keras) (1.4.0)\n",
            "Requirement already satisfied: numpy in /usr/local/lib/python3.10/dist-packages (from keras) (1.26.4)\n",
            "Requirement already satisfied: rich in /usr/local/lib/python3.10/dist-packages (from keras) (13.7.1)\n",
            "Requirement already satisfied: namex in /usr/local/lib/python3.10/dist-packages (from keras) (0.0.8)\n",
            "Requirement already satisfied: h5py in /usr/local/lib/python3.10/dist-packages (from keras) (3.11.0)\n",
            "Requirement already satisfied: optree in /usr/local/lib/python3.10/dist-packages (from keras) (0.12.1)\n",
            "Requirement already satisfied: ml-dtypes in /usr/local/lib/python3.10/dist-packages (from keras) (0.4.0)\n",
            "Requirement already satisfied: packaging in /usr/local/lib/python3.10/dist-packages (from keras) (24.1)\n",
            "Requirement already satisfied: typing-extensions>=4.5.0 in /usr/local/lib/python3.10/dist-packages (from optree->keras) (4.12.2)\n",
            "Requirement already satisfied: markdown-it-py>=2.2.0 in /usr/local/lib/python3.10/dist-packages (from rich->keras) (3.0.0)\n",
            "Requirement already satisfied: pygments<3.0.0,>=2.13.0 in /usr/local/lib/python3.10/dist-packages (from rich->keras) (2.16.1)\n",
            "Requirement already satisfied: mdurl~=0.1 in /usr/local/lib/python3.10/dist-packages (from markdown-it-py>=2.2.0->rich->keras) (0.1.2)\n",
            "Collecting PyPDF2\n",
            "  Downloading pypdf2-3.0.1-py3-none-any.whl.metadata (6.8 kB)\n",
            "Downloading pypdf2-3.0.1-py3-none-any.whl (232 kB)\n",
            "\u001b[2K   \u001b[90m━━━━━━━━━━━━━━━━━━━━━━━━━━━━━━━━━━━━━━━━\u001b[0m \u001b[32m232.6/232.6 kB\u001b[0m \u001b[31m7.0 MB/s\u001b[0m eta \u001b[36m0:00:00\u001b[0m\n",
            "\u001b[?25hInstalling collected packages: PyPDF2\n",
            "Successfully installed PyPDF2-3.0.1\n",
            "Reading package lists... Done\n",
            "Building dependency tree... Done\n",
            "Reading state information... Done\n",
            "The following additional packages will be installed:\n",
            "  espeak-data libespeak1 libportaudio2 libsonic0\n",
            "The following NEW packages will be installed:\n",
            "  espeak espeak-data libespeak1 libportaudio2 libsonic0\n",
            "0 upgraded, 5 newly installed, 0 to remove and 45 not upgraded.\n",
            "Need to get 1,382 kB of archives.\n",
            "After this operation, 3,178 kB of additional disk space will be used.\n",
            "Get:1 http://archive.ubuntu.com/ubuntu jammy/universe amd64 libportaudio2 amd64 19.6.0-1.1 [65.3 kB]\n",
            "Get:2 http://archive.ubuntu.com/ubuntu jammy/main amd64 libsonic0 amd64 0.2.0-11build1 [10.3 kB]\n",
            "Get:3 http://archive.ubuntu.com/ubuntu jammy/universe amd64 espeak-data amd64 1.48.15+dfsg-3 [1,085 kB]\n",
            "Get:4 http://archive.ubuntu.com/ubuntu jammy/universe amd64 libespeak1 amd64 1.48.15+dfsg-3 [156 kB]\n",
            "Get:5 http://archive.ubuntu.com/ubuntu jammy/universe amd64 espeak amd64 1.48.15+dfsg-3 [64.2 kB]\n",
            "Fetched 1,382 kB in 1s (2,108 kB/s)\n",
            "debconf: unable to initialize frontend: Dialog\n",
            "debconf: (No usable dialog-like program is installed, so the dialog based frontend cannot be used. at /usr/share/perl5/Debconf/FrontEnd/Dialog.pm line 78, <> line 5.)\n",
            "debconf: falling back to frontend: Readline\n",
            "debconf: unable to initialize frontend: Readline\n",
            "debconf: (This frontend requires a controlling tty.)\n",
            "debconf: falling back to frontend: Teletype\n",
            "dpkg-preconfigure: unable to re-open stdin: \n",
            "Selecting previously unselected package libportaudio2:amd64.\n",
            "(Reading database ... 123594 files and directories currently installed.)\n",
            "Preparing to unpack .../libportaudio2_19.6.0-1.1_amd64.deb ...\n",
            "Unpacking libportaudio2:amd64 (19.6.0-1.1) ...\n",
            "Selecting previously unselected package libsonic0:amd64.\n",
            "Preparing to unpack .../libsonic0_0.2.0-11build1_amd64.deb ...\n",
            "Unpacking libsonic0:amd64 (0.2.0-11build1) ...\n",
            "Selecting previously unselected package espeak-data:amd64.\n",
            "Preparing to unpack .../espeak-data_1.48.15+dfsg-3_amd64.deb ...\n",
            "Unpacking espeak-data:amd64 (1.48.15+dfsg-3) ...\n",
            "Selecting previously unselected package libespeak1:amd64.\n",
            "Preparing to unpack .../libespeak1_1.48.15+dfsg-3_amd64.deb ...\n",
            "Unpacking libespeak1:amd64 (1.48.15+dfsg-3) ...\n",
            "Selecting previously unselected package espeak.\n",
            "Preparing to unpack .../espeak_1.48.15+dfsg-3_amd64.deb ...\n",
            "Unpacking espeak (1.48.15+dfsg-3) ...\n",
            "Setting up libportaudio2:amd64 (19.6.0-1.1) ...\n",
            "Setting up libsonic0:amd64 (0.2.0-11build1) ...\n",
            "Setting up espeak-data:amd64 (1.48.15+dfsg-3) ...\n",
            "Setting up libespeak1:amd64 (1.48.15+dfsg-3) ...\n",
            "Setting up espeak (1.48.15+dfsg-3) ...\n",
            "Processing triggers for man-db (2.10.2-1) ...\n",
            "Processing triggers for libc-bin (2.35-0ubuntu3.4) ...\n",
            "/sbin/ldconfig.real: /usr/local/lib/libur_adapter_opencl.so.0 is not a symbolic link\n",
            "\n",
            "/sbin/ldconfig.real: /usr/local/lib/libtbbmalloc.so.2 is not a symbolic link\n",
            "\n",
            "/sbin/ldconfig.real: /usr/local/lib/libtbbbind_2_0.so.3 is not a symbolic link\n",
            "\n",
            "/sbin/ldconfig.real: /usr/local/lib/libtbbmalloc_proxy.so.2 is not a symbolic link\n",
            "\n",
            "/sbin/ldconfig.real: /usr/local/lib/libtbb.so.12 is not a symbolic link\n",
            "\n",
            "/sbin/ldconfig.real: /usr/local/lib/libtbbbind_2_5.so.3 is not a symbolic link\n",
            "\n",
            "/sbin/ldconfig.real: /usr/local/lib/libur_loader.so.0 is not a symbolic link\n",
            "\n",
            "/sbin/ldconfig.real: /usr/local/lib/libtbbbind.so.3 is not a symbolic link\n",
            "\n",
            "/sbin/ldconfig.real: /usr/local/lib/libur_adapter_level_zero.so.0 is not a symbolic link\n",
            "\n"
          ]
        }
      ]
    },
    {
      "cell_type": "code",
      "source": [
        "from transformers import pipeline\n",
        "from gtts import gTTS\n",
        "import moviepy.editor as mp\n",
        "from pdfminer.high_level import extract_text\n",
        "import os\n",
        "# Import required modules\n",
        "from google.colab import files\n",
        "import PyPDF2"
      ],
      "metadata": {
        "id": "gSJRm20aSH4q"
      },
      "execution_count": 3,
      "outputs": []
    },
    {
      "cell_type": "code",
      "source": [
        "# Prompt user to upload a PDF file\n",
        "print(\"Please upload a PDF file.\")\n",
        "uploaded = files.upload()\n",
        "\n",
        "# Get the file name of the uploaded PDF\n",
        "pdf_file_path = next(iter(uploaded))\n",
        "\n",
        "# Open the PDF file\n",
        "with open(pdf_file_path, 'rb') as file:\n",
        "    # Create a PDF reader object\n",
        "    pdf_reader = PyPDF2.PdfReader(file)\n",
        "\n",
        "    # Initialize a variable to store the text\n",
        "    text = ''\n",
        "\n",
        "    # Loop through all the pages and extract the text\n",
        "    for page_num in range(len(pdf_reader.pages)):\n",
        "        page = pdf_reader.pages[page_num]\n",
        "        text += page.extract_text()\n",
        "\n",
        "# Print the extracted text\n",
        "print(\"Extracted text from the PDF:\")\n",
        "print(text)"
      ],
      "metadata": {
        "colab": {
          "base_uri": "https://localhost:8080/",
          "height": 249
        },
        "collapsed": true,
        "id": "luKA9XnlSHpR",
        "outputId": "dd64fbb4-da82-411a-b339-662028bec341"
      },
      "execution_count": 4,
      "outputs": [
        {
          "output_type": "stream",
          "name": "stdout",
          "text": [
            "Please upload a PDF file.\n"
          ]
        },
        {
          "output_type": "display_data",
          "data": {
            "text/plain": [
              "<IPython.core.display.HTML object>"
            ],
            "text/html": [
              "\n",
              "     <input type=\"file\" id=\"files-4a295ae2-f434-44d4-bd7a-3357f92b49a0\" name=\"files[]\" multiple disabled\n",
              "        style=\"border:none\" />\n",
              "     <output id=\"result-4a295ae2-f434-44d4-bd7a-3357f92b49a0\">\n",
              "      Upload widget is only available when the cell has been executed in the\n",
              "      current browser session. Please rerun this cell to enable.\n",
              "      </output>\n",
              "      <script>// Copyright 2017 Google LLC\n",
              "//\n",
              "// Licensed under the Apache License, Version 2.0 (the \"License\");\n",
              "// you may not use this file except in compliance with the License.\n",
              "// You may obtain a copy of the License at\n",
              "//\n",
              "//      http://www.apache.org/licenses/LICENSE-2.0\n",
              "//\n",
              "// Unless required by applicable law or agreed to in writing, software\n",
              "// distributed under the License is distributed on an \"AS IS\" BASIS,\n",
              "// WITHOUT WARRANTIES OR CONDITIONS OF ANY KIND, either express or implied.\n",
              "// See the License for the specific language governing permissions and\n",
              "// limitations under the License.\n",
              "\n",
              "/**\n",
              " * @fileoverview Helpers for google.colab Python module.\n",
              " */\n",
              "(function(scope) {\n",
              "function span(text, styleAttributes = {}) {\n",
              "  const element = document.createElement('span');\n",
              "  element.textContent = text;\n",
              "  for (const key of Object.keys(styleAttributes)) {\n",
              "    element.style[key] = styleAttributes[key];\n",
              "  }\n",
              "  return element;\n",
              "}\n",
              "\n",
              "// Max number of bytes which will be uploaded at a time.\n",
              "const MAX_PAYLOAD_SIZE = 100 * 1024;\n",
              "\n",
              "function _uploadFiles(inputId, outputId) {\n",
              "  const steps = uploadFilesStep(inputId, outputId);\n",
              "  const outputElement = document.getElementById(outputId);\n",
              "  // Cache steps on the outputElement to make it available for the next call\n",
              "  // to uploadFilesContinue from Python.\n",
              "  outputElement.steps = steps;\n",
              "\n",
              "  return _uploadFilesContinue(outputId);\n",
              "}\n",
              "\n",
              "// This is roughly an async generator (not supported in the browser yet),\n",
              "// where there are multiple asynchronous steps and the Python side is going\n",
              "// to poll for completion of each step.\n",
              "// This uses a Promise to block the python side on completion of each step,\n",
              "// then passes the result of the previous step as the input to the next step.\n",
              "function _uploadFilesContinue(outputId) {\n",
              "  const outputElement = document.getElementById(outputId);\n",
              "  const steps = outputElement.steps;\n",
              "\n",
              "  const next = steps.next(outputElement.lastPromiseValue);\n",
              "  return Promise.resolve(next.value.promise).then((value) => {\n",
              "    // Cache the last promise value to make it available to the next\n",
              "    // step of the generator.\n",
              "    outputElement.lastPromiseValue = value;\n",
              "    return next.value.response;\n",
              "  });\n",
              "}\n",
              "\n",
              "/**\n",
              " * Generator function which is called between each async step of the upload\n",
              " * process.\n",
              " * @param {string} inputId Element ID of the input file picker element.\n",
              " * @param {string} outputId Element ID of the output display.\n",
              " * @return {!Iterable<!Object>} Iterable of next steps.\n",
              " */\n",
              "function* uploadFilesStep(inputId, outputId) {\n",
              "  const inputElement = document.getElementById(inputId);\n",
              "  inputElement.disabled = false;\n",
              "\n",
              "  const outputElement = document.getElementById(outputId);\n",
              "  outputElement.innerHTML = '';\n",
              "\n",
              "  const pickedPromise = new Promise((resolve) => {\n",
              "    inputElement.addEventListener('change', (e) => {\n",
              "      resolve(e.target.files);\n",
              "    });\n",
              "  });\n",
              "\n",
              "  const cancel = document.createElement('button');\n",
              "  inputElement.parentElement.appendChild(cancel);\n",
              "  cancel.textContent = 'Cancel upload';\n",
              "  const cancelPromise = new Promise((resolve) => {\n",
              "    cancel.onclick = () => {\n",
              "      resolve(null);\n",
              "    };\n",
              "  });\n",
              "\n",
              "  // Wait for the user to pick the files.\n",
              "  const files = yield {\n",
              "    promise: Promise.race([pickedPromise, cancelPromise]),\n",
              "    response: {\n",
              "      action: 'starting',\n",
              "    }\n",
              "  };\n",
              "\n",
              "  cancel.remove();\n",
              "\n",
              "  // Disable the input element since further picks are not allowed.\n",
              "  inputElement.disabled = true;\n",
              "\n",
              "  if (!files) {\n",
              "    return {\n",
              "      response: {\n",
              "        action: 'complete',\n",
              "      }\n",
              "    };\n",
              "  }\n",
              "\n",
              "  for (const file of files) {\n",
              "    const li = document.createElement('li');\n",
              "    li.append(span(file.name, {fontWeight: 'bold'}));\n",
              "    li.append(span(\n",
              "        `(${file.type || 'n/a'}) - ${file.size} bytes, ` +\n",
              "        `last modified: ${\n",
              "            file.lastModifiedDate ? file.lastModifiedDate.toLocaleDateString() :\n",
              "                                    'n/a'} - `));\n",
              "    const percent = span('0% done');\n",
              "    li.appendChild(percent);\n",
              "\n",
              "    outputElement.appendChild(li);\n",
              "\n",
              "    const fileDataPromise = new Promise((resolve) => {\n",
              "      const reader = new FileReader();\n",
              "      reader.onload = (e) => {\n",
              "        resolve(e.target.result);\n",
              "      };\n",
              "      reader.readAsArrayBuffer(file);\n",
              "    });\n",
              "    // Wait for the data to be ready.\n",
              "    let fileData = yield {\n",
              "      promise: fileDataPromise,\n",
              "      response: {\n",
              "        action: 'continue',\n",
              "      }\n",
              "    };\n",
              "\n",
              "    // Use a chunked sending to avoid message size limits. See b/62115660.\n",
              "    let position = 0;\n",
              "    do {\n",
              "      const length = Math.min(fileData.byteLength - position, MAX_PAYLOAD_SIZE);\n",
              "      const chunk = new Uint8Array(fileData, position, length);\n",
              "      position += length;\n",
              "\n",
              "      const base64 = btoa(String.fromCharCode.apply(null, chunk));\n",
              "      yield {\n",
              "        response: {\n",
              "          action: 'append',\n",
              "          file: file.name,\n",
              "          data: base64,\n",
              "        },\n",
              "      };\n",
              "\n",
              "      let percentDone = fileData.byteLength === 0 ?\n",
              "          100 :\n",
              "          Math.round((position / fileData.byteLength) * 100);\n",
              "      percent.textContent = `${percentDone}% done`;\n",
              "\n",
              "    } while (position < fileData.byteLength);\n",
              "  }\n",
              "\n",
              "  // All done.\n",
              "  yield {\n",
              "    response: {\n",
              "      action: 'complete',\n",
              "    }\n",
              "  };\n",
              "}\n",
              "\n",
              "scope.google = scope.google || {};\n",
              "scope.google.colab = scope.google.colab || {};\n",
              "scope.google.colab._files = {\n",
              "  _uploadFiles,\n",
              "  _uploadFilesContinue,\n",
              "};\n",
              "})(self);\n",
              "</script> "
            ]
          },
          "metadata": {}
        },
        {
          "output_type": "stream",
          "name": "stdout",
          "text": [
            "Saving beginners_python_cheat_sheet_pcc_django.pdf to beginners_python_cheat_sheet_pcc_django.pdf\n",
            "Extracted text from the PDF:\n",
            "     Python Crash Course A Hands-On, Project-Based Introduction to Programming nostarch.com/pythoncrashcourse2e   \n",
            "Building a simple home page Users interact with a project through web pages, and a project’s home page can start out as a simple page with no data. A page usually needs a URL, a view, and a template. Mapping a project’s URLs The project’s main urls.py file tells Django where to find the urls.py files associated with each app in the project. from django.contrib import admin from django.urls import path, include  urlpatterns = [     path('admin/', admin.site.urls),     path('', include('learning_logs.urls')),    ] Mapping an app’s URLs An app’s urls.py file tells Django which view to use for each URL in the app. You’ll need to make this file yourself, and save it in the app’s folder. from django.urls import path  from . import views  app_name = 'learning_logs' urlpatterns = [     # Home page.     path('', views.index, name='index'), ] Writing a simple view A view takes information from a request and sends data to the browser, often through a template. View functions are stored in an app’s views.py file. This simple view function doesn’t pull in any data, but it uses the template index.html to render the home page. from django.shortcuts import render  def index(request):     \"\"\"The home page for Learning Log.\"\"\"     return render(request,             'learning_logs/index.html')  What is Django? Django is a web framework which helps you build interactive websites using Python. With Django you define the kind of data your site needs to work with, and you define the ways your users can work with that data.  Installing Django It’s usually best to install Django to a virtual environment, where your project can be isolated from your other Python projects. Most commands assume you’re working in an active virtual environment. Create a virtual environment $ python –m venv ll_env Activate the environment (macOS and Linux) $ source ll_env/bin/activate Activate the environment (Windows) > ll_env\\Scripts\\activate Install Django to the active environment (ll_env)$ pip install Django   Working with models The data in a Django project is structured as a set of models. Defining a model To define the models for your app, modify the file models.py that was created in your app’s folder. The __str__() method tells Django how to represent data objects based on this model. from django.db import models  class Topic(models.Model):     \"\"\"A topic the user is learning about.\"\"\"      text = models.CharField(max_length=200)     date_added = models.DateTimeField(             auto_now_add=True)                  def __str__(self):         return self.text Activating a model To use a model the app must be added to the list  INSTALLED_APPS, which is stored in the project’s settings.py file. INSTALLED_APPS = [     # My apps.     'learning_logs',      # Default Django apps.     'django.contrib.admin', ] Migrating the database The database needs to be modified to store the kind of data that the model represents. You'll need to run these commands every time you create a new model, or modify an existing model. $ python manage.py makemigrations learning_logs $ python manage.py migrate Creating a superuser A superuser is a user account that has access to all aspects of the project. $ python manage.py createsuperuser Registering a model You can register your models with Django’s admin site, which makes it easier to work with the data in your project. To do this, modify the app’s admin.py file. View the admin site at http://localhost:8000/admin/. from django.contrib import admin  from .models import Topic  admin.site.register(Topic)  Beginner's Python Cheat Sheet – Django \n",
            "Creating a project To start a project we’ll create a new project, create a database, and start a development server. Create a new project $ django-admin startproject learning_log . Create a database $ python manage.py migrate View the project After issuing this command, you can view the project at http://localhost:8000/. $ python manage.py runserver Create a new app A Django project is made up of one or more apps. $ python manage.py startapp learning_logs  Online resources The documentation for Django is available at http://docs.djangoproject.com/. The Django documentation is thorough and user-friendly, so check it out!   Building a simple home page (cont.) Writing a simple template A template sets up the structure for a page. It’s a mix of html and template code, which is like Python but not as powerful. Make a folder called templates inside the project folder. Inside the templates folder make another folder with the same name as the app. This is where the template files should be saved.   The home page template will be saved as learning_logs/templates/learning_logs/index.html. <p>Learning Log</p>  <p>Learning Log helps you keep track of your  learning, for any topic you're learning about.</p>  Another model A new model can use an existing model. The ForeignKey attribute establishes a connection between instances of the two related models. Make sure to migrate the database after adding a new model to your app. Defining a model with a foreign key class Entry(models.Model):     \"\"\"Learning log entries for a topic.\"\"\"     topic = models.ForeignKey(Topic,             on_delete=models.CASCADE)     text = models.TextField()     date_added = models.DateTimeField(             auto_now_add=True)          def __str__(self):         return f\"{self.text[:50]}...\"  \n",
            "More cheat sheets available at ehmatthes.github.io/pcc_2e/  Building a page with data (cont.) Using data in a template The data in the view function’s context dictionary is available within the template. This data is accessed using template variables, which are indicated by doubled curly braces.   The vertical line after a template variable indicates a filter. In this case a filter called date formats date objects, and the filter linebreaks renders paragraphs properly on a web page. {% extends 'learning_logs/base.html' %}  {% block content %}    <p>Topic: {{ topic }}</p>    <p>Entries:</p>   <ul>   {% for entry in entries %}     <li>     <p>       {{ entry.date_added|date:'M d, Y H:i' }}     </p>     <p>       {{ entry.text|linebreaks }}     </p>     </li>   {% empty %}     <li>There are no entries yet.</li>   {% endfor %}   </ul>    {% endblock content %}  Template inheritance Many elements of a web page are repeated on every page in the site, or every page in a section of the site. By writing one parent template for the site, and one for each section, you can easily modify the look and feel of your entire site. The parent template The parent template defines the elements common to a set of pages, and defines blocks that will be filled by individual pages. <p>   <a href=\"{% url 'learning_logs:index' %}\">     Learning Log   </a> </p>  {% block content %}{% endblock content %} The child template The child template uses the {% extends %} template tag to pull in the structure of the parent template. It then defines the content for any blocks defined in the parent template. {% extends 'learning_logs/base.html' %}  {% block content %}    <p>     Learning Log helps you keep track      of your learning, for any topic you're     learning about.   </p>  {% endblock content %}  Building a page with data Most pages in a project need to present data that’s specific to the current user. URL parameters A URL often needs to accept a parameter telling it which data to access from the database. The URL pattern shown here looks for the ID of a specific topic and assigns it to the parameter topic_id. urlpatterns = [     --snip--     # Detail page for a single topic.     path('topics/<int:topic_id>/', views.topic,             name='topic'), ] Using data in a view The view uses a parameter from the URL to pull the correct data from the database. In this example the view is sending a context dictionary to the template, containing data that should be displayed on the page. You'll need to import any model you're using. def topic(request, topic_id):     \"\"\"Show a topic and all its entries.\"\"\"     topic = Topic.objects.get(id=topic_id)     entries = topic.entry_set.order_by(             '-date_added')     context = {         'topic': topic,         'entries': entries,         }             return render(request,         'learning_logs/topic.html', context)  The Django shell You can explore the data in your project from the command line. This is helpful for developing queries and testing code snippets. Start a shell session $ python manage.py shell Access data from the project >>> from learning_logs.models import Topic >>> Topic.objects.all() [<Topic: Chess>, <Topic: Rock Climbing>] >>> topic = Topic.objects.get(id=1) >>> topic.text 'Chess'  Restarting the development server If you make a change to your project and the change doesn’t seem to have any effect, try restarting the server: $ python manage.py runserver  Template indentation Python code is usually indented by four spaces. In templates you’ll often see two spaces used for indentation, because elements tend to be nested more deeply in templates.    Python Crash Course A Hands-On, Project-Based Introduction to Programming nostarch.com/pythoncrashcourse2e   \n",
            "User accounts (cont.) Showing the current login status You can modify the base.html template to show whether the user is currently logged in, and to provide a link to the login and logout pages. Django makes a user object available to every template, and this template takes advantage of this object.   The user.is_authenticated tag allows you to serve specific content to users depending on whether they have logged in or not. The {{ user.username }} property allows you to greet users who have logged in. Users who haven’t logged in see links to register or log in. <p>   <a href=\"{% url 'learning_logs:index' %}\">     Learning Log   </a>    {% if user.is_authenticated %}     Hello, {{ user.username }}.     <a href=\"{% url 'users:logout' %}\">       Log out     </a>   {% else %}     <a href=\"{% url 'users:register' %}\">       Register     </a> -     <a href=\"{% url 'users:login' %}\">       Log in     </a>   {% endif %}  </p>  {% block content %}{% endblock content %} The logged_out template The default logout view renders the page using the template logged_out.html, which needs to be saved in the users/templates/registration folder. {% extends \"learning_logs/base.html\" %}  {% block content %}   <p>     You have been logged out. Thank you     for visiting!   </p> {% endblock content %}  User accounts User accounts are handled by a dedicated app called users. Users need to be able to register, log in, and log out. Django automates much of this work for you. Making a users app After making the app, be sure to add 'users' to INSTALLED_APPS in the project’s settings.py file. $ python manage.py startapp users Including URLS for the users app Add a line to the project’s urls.py file so the users app’s URLs are included in the project. from django.contrib import admin from django.urls import path, include  urlpatterns = [     path('admin/', admin.site.urls),     path('users/', include('users.urls')),     path('', include('learning_logs.urls')), ]  User accounts (cont.) Defining the URLs Users will need to be able to log in, log out, and register. Make a new urls.py file in the users app folder. from django.urls import path, include  from . import views  app_name = 'users' urlpatterns = [     # Include default auth urls.     path('', include(             'django.contrib.auth.urls')),      # Registration page.     path('register/', views.register,             name='register'), ] The login template The login view is provided by default, but you need to provide your own login template. The template shown here displays a simple login form, and provides basic error messages. Make a templates folder in the users folder, and then make a registration folder in the templates folder. Save this file as login.html.   The tag {% csrf_token %} helps prevent a common type of attack with forms. The {{ form.as_p }} element displays the default login form in paragraph format. The <input> element named next redirects the user to the home page after a successful login. {% extends \"learning_logs/base.html\" %}  {% block content %}   {% if form.errors %}   <p>     Your username and password didn't match.     Please try again.   </p>   {% endif %}      <form method=\"post\"       action=\"{% url 'users:login' %}\">      {% csrf token %}     {{ form.as_p }}     <button name=\"submit\">Log in</button>          <input type=\"hidden\" name=\"next\"       value=\"{% url 'learning_logs:index' %}\"/>    </form>    {% endblock content %}  Beginner's Python Cheat Sheet – Django, Part 2 Users and forms Most web applications need to let users create accounts. This lets users create and work with their own data. Some of this data may be private, and some may be public. Django’s forms allow users to enter and modify their data.  \n",
            "Using forms in Django There are a number of ways to create forms and work with them. You can use Django’s defaults, or completely customize your forms. For a simple way to let users enter data based on your models, use a ModelForm. This creates a form that allows users to enter data that will populate the fields on a model.   The register view on the back of this sheet shows a simple approach to form processing. If the view doesn’t receive data from a form, it responds with a blank form. If it receives POST data from a form, it validates the data and then saves it to the database.     User accounts (cont.) The register view The register view needs to display a blank registration form when the page is first requested, and then process completed registration forms. A successful registration logs the user in and redirects to the home page. from django.shortcuts import render, redirect from django.contrib.auth import login from django.contrib.auth.forms import \\         UserCreationForm  def register(request):     \"\"\"Register a new user.\"\"\"      if request.method != 'POST':         # Display blank registration form.            form = UserCreationForm()     else:         # Process completed form.         form = UserCreationForm(                 data=request.POST)                  if form.is_valid():             new_user = form.save()              # Log in, redirect to home page.             login(request, new_user)             return redirect(                     'learning_logs:index')      # Display a blank or invalid form.     context = {'form': form}     return render(request,         'registration/register.html', context)    User accounts (cont.) The register template The register.html template displays the registration form in paragraph formats. {% extends 'learning_logs/base.html' %}  {% block content %}    <form method='post'       action=\"{% url 'users:register' %}\">          {% csrf_token %}     {{ form.as_p }}          <button name='submit'>Register</button>     <input type='hidden' name='next'       value=\"{% url 'learning_logs:index' %}\"/>        </form>  {% endblock content %}   \n",
            "More cheat sheets available at ehmatthes.github.io/pcc_2e/  Connecting data to users (cont.) Restricting access to logged-in users Some pages are only relevant to registered users. The views for these pages can be protected by the @login_required decorator. Any view with this decorator will automatically redirect non-logged in users to an appropriate page. Here’s an example views.py file. from django.contrib.auth.decorators import \\         login_required --snip--  @login_required def topic(request, topic_id):     \"\"\"Show a topic and all its entries.\"\"\" Setting the redirect URL The @login_required decorator sends unauthorized users to the login page. Add the following line to your project’s settings.py file so Django will know how to find your login page. LOGIN_URL = 'users:login' Preventing inadvertent access Some pages serve data based on a parameter in the URL. You can check that the current user owns the requested data, and return a 404 error if they don’t. Here’s an example view. from django.http import Http404 --snip--  @login_required def topic(request, topic_id):     \"\"\"Show a topic and all its entries.\"\"\"     topic = Topics.objects.get(id=topic_id)     if topic.owner != request.user:         raise Http404     --snip--  Connecting data to users Users will have data that belongs to them. Any model that should be connected directly to a user needs a field connecting instances of the model to a specific user. Making a topic belong to a user Only the highest-level data in a hierarchy needs to be directly connected to a user. To do this import the User model, and add it as a foreign key on the data model.   After modifying the model you’ll need to migrate the database. You’ll need to choose a user ID to connect each existing instance to. from django.db import models from django.contrib.auth.models import User  class Topic(models.Model):     \"\"\"A topic the user is learning about.\"\"\"     text = models.CharField(max_length=200)     date_added = models.DateTimeField(             auto_now_add=True)     owner = models.ForeignKey(User,             on_delete=models.CASCADE)                  def __str__(self):         return self.text Querying data for the current user In a view, the request object has a user attribute. You can use this attribute to query for the user’s data. The filter() method then pulls the data that belongs to the current user. topics = Topic.objects.filter(                 owner=request.user)  Styling your project The django-bootstrap4 app allows you to use the Bootstrap library to make your project look visually appealing. The app provides tags that you can use in your templates to style individual elements on a page. Learn more at https://django-bootstrap4.readthedocs.io/.  Using a form to edit data If you provide some initial data, Django generates a form with the user’s existing data. Users can then modify and save their data. Creating a form with initial data The instance parameter allows you to specify initial data for a form. form = EntryForm(instance=entry) Modifying data before saving The argument commit=False allows you to make changes before writing data to the database. new_topic = form.save(commit=False) new_topic.owner = request.user new_topic.save()  Deploying your project Heroku lets you push your project to a live server, making it available to anyone with an internet connection. Heroku offers a free service level, which lets you learn the deployment process without any commitment. You’ll need to install a set of Heroku command line tools, and use git to track the state of your project. See https://devcenter.heroku.com/, and click on the Python link.   \n"
          ]
        }
      ]
    },
    {
      "cell_type": "code",
      "source": [
        "# Step 4: Convert the extracted text to speech\n",
        "tts = gTTS(text=text, lang='en')\n",
        "speech_file = \"pdf_to_speech.mp3\"\n",
        "tts.save(speech_file)\n",
        "\n",
        "# Step 5: Provide the download link for the speech file\n",
        "#files.download(speech_file)\n",
        "#step 5 to download audio file in ur local system."
      ],
      "metadata": {
        "id": "jTix07EGSOE-"
      },
      "execution_count": 5,
      "outputs": []
    },
    {
      "cell_type": "code",
      "source": [
        "!pip install transformers gtts moviepy pdfminer.six pyttsx3 # Install pyttsx3\n",
        "from transformers import pipeline\n",
        "from gtts import gTTS\n",
        "import moviepy.editor as mp\n",
        "from pdfminer.high_level import extract_text\n",
        "import os\n",
        "import pyttsx3 # Import the missing module\n",
        "import IPython.display as ipd"
      ],
      "metadata": {
        "colab": {
          "base_uri": "https://localhost:8080/"
        },
        "collapsed": true,
        "id": "8n1twb-tSR3B",
        "outputId": "1c894e02-28cb-4029-f0ec-5e68546fc170"
      },
      "execution_count": 6,
      "outputs": [
        {
          "output_type": "stream",
          "name": "stdout",
          "text": [
            "Requirement already satisfied: transformers in /usr/local/lib/python3.10/dist-packages (4.42.4)\n",
            "Requirement already satisfied: gtts in /usr/local/lib/python3.10/dist-packages (2.5.2)\n",
            "Requirement already satisfied: moviepy in /usr/local/lib/python3.10/dist-packages (1.0.3)\n",
            "Requirement already satisfied: pdfminer.six in /usr/local/lib/python3.10/dist-packages (20240706)\n",
            "Collecting pyttsx3\n",
            "  Downloading pyttsx3-2.90-py3-none-any.whl.metadata (3.6 kB)\n",
            "Requirement already satisfied: filelock in /usr/local/lib/python3.10/dist-packages (from transformers) (3.15.4)\n",
            "Requirement already satisfied: huggingface-hub<1.0,>=0.23.2 in /usr/local/lib/python3.10/dist-packages (from transformers) (0.23.5)\n",
            "Requirement already satisfied: numpy<2.0,>=1.17 in /usr/local/lib/python3.10/dist-packages (from transformers) (1.26.4)\n",
            "Requirement already satisfied: packaging>=20.0 in /usr/local/lib/python3.10/dist-packages (from transformers) (24.1)\n",
            "Requirement already satisfied: pyyaml>=5.1 in /usr/local/lib/python3.10/dist-packages (from transformers) (6.0.2)\n",
            "Requirement already satisfied: regex!=2019.12.17 in /usr/local/lib/python3.10/dist-packages (from transformers) (2024.5.15)\n",
            "Requirement already satisfied: requests in /usr/local/lib/python3.10/dist-packages (from transformers) (2.32.3)\n",
            "Requirement already satisfied: safetensors>=0.4.1 in /usr/local/lib/python3.10/dist-packages (from transformers) (0.4.4)\n",
            "Requirement already satisfied: tokenizers<0.20,>=0.19 in /usr/local/lib/python3.10/dist-packages (from transformers) (0.19.1)\n",
            "Requirement already satisfied: tqdm>=4.27 in /usr/local/lib/python3.10/dist-packages (from transformers) (4.66.5)\n",
            "Requirement already satisfied: click<8.2,>=7.1 in /usr/local/lib/python3.10/dist-packages (from gtts) (8.1.7)\n",
            "Requirement already satisfied: decorator<5.0,>=4.0.2 in /usr/local/lib/python3.10/dist-packages (from moviepy) (4.4.2)\n",
            "Requirement already satisfied: proglog<=1.0.0 in /usr/local/lib/python3.10/dist-packages (from moviepy) (0.1.10)\n",
            "Requirement already satisfied: imageio<3.0,>=2.5 in /usr/local/lib/python3.10/dist-packages (from moviepy) (2.34.2)\n",
            "Requirement already satisfied: imageio-ffmpeg>=0.2.0 in /usr/local/lib/python3.10/dist-packages (from moviepy) (0.5.1)\n",
            "Requirement already satisfied: charset-normalizer>=2.0.0 in /usr/local/lib/python3.10/dist-packages (from pdfminer.six) (3.3.2)\n",
            "Requirement already satisfied: cryptography>=36.0.0 in /usr/local/lib/python3.10/dist-packages (from pdfminer.six) (42.0.8)\n",
            "Requirement already satisfied: cffi>=1.12 in /usr/local/lib/python3.10/dist-packages (from cryptography>=36.0.0->pdfminer.six) (1.17.0)\n",
            "Requirement already satisfied: fsspec>=2023.5.0 in /usr/local/lib/python3.10/dist-packages (from huggingface-hub<1.0,>=0.23.2->transformers) (2024.6.1)\n",
            "Requirement already satisfied: typing-extensions>=3.7.4.3 in /usr/local/lib/python3.10/dist-packages (from huggingface-hub<1.0,>=0.23.2->transformers) (4.12.2)\n",
            "Requirement already satisfied: pillow>=8.3.2 in /usr/local/lib/python3.10/dist-packages (from imageio<3.0,>=2.5->moviepy) (9.4.0)\n",
            "Requirement already satisfied: setuptools in /usr/local/lib/python3.10/dist-packages (from imageio-ffmpeg>=0.2.0->moviepy) (71.0.4)\n",
            "Requirement already satisfied: idna<4,>=2.5 in /usr/local/lib/python3.10/dist-packages (from requests->transformers) (3.7)\n",
            "Requirement already satisfied: urllib3<3,>=1.21.1 in /usr/local/lib/python3.10/dist-packages (from requests->transformers) (2.0.7)\n",
            "Requirement already satisfied: certifi>=2017.4.17 in /usr/local/lib/python3.10/dist-packages (from requests->transformers) (2024.7.4)\n",
            "Requirement already satisfied: pycparser in /usr/local/lib/python3.10/dist-packages (from cffi>=1.12->cryptography>=36.0.0->pdfminer.six) (2.22)\n",
            "Downloading pyttsx3-2.90-py3-none-any.whl (39 kB)\n",
            "Installing collected packages: pyttsx3\n",
            "Successfully installed pyttsx3-2.90\n"
          ]
        }
      ]
    },
    {
      "cell_type": "code",
      "source": [
        "!pip install opencv-python-headless moviepy\n",
        "!wget https://randomuser.me/api/portraits/men/1.jpg"
      ],
      "metadata": {
        "colab": {
          "base_uri": "https://localhost:8080/"
        },
        "collapsed": true,
        "id": "S8e575gVTTgq",
        "outputId": "4db38c41-7782-4355-931c-9695dde01650"
      },
      "execution_count": 7,
      "outputs": [
        {
          "output_type": "stream",
          "name": "stdout",
          "text": [
            "Requirement already satisfied: opencv-python-headless in /usr/local/lib/python3.10/dist-packages (4.10.0.84)\n",
            "Requirement already satisfied: moviepy in /usr/local/lib/python3.10/dist-packages (1.0.3)\n",
            "Requirement already satisfied: numpy>=1.21.2 in /usr/local/lib/python3.10/dist-packages (from opencv-python-headless) (1.26.4)\n",
            "Requirement already satisfied: decorator<5.0,>=4.0.2 in /usr/local/lib/python3.10/dist-packages (from moviepy) (4.4.2)\n",
            "Requirement already satisfied: tqdm<5.0,>=4.11.2 in /usr/local/lib/python3.10/dist-packages (from moviepy) (4.66.5)\n",
            "Requirement already satisfied: requests<3.0,>=2.8.1 in /usr/local/lib/python3.10/dist-packages (from moviepy) (2.32.3)\n",
            "Requirement already satisfied: proglog<=1.0.0 in /usr/local/lib/python3.10/dist-packages (from moviepy) (0.1.10)\n",
            "Requirement already satisfied: imageio<3.0,>=2.5 in /usr/local/lib/python3.10/dist-packages (from moviepy) (2.34.2)\n",
            "Requirement already satisfied: imageio-ffmpeg>=0.2.0 in /usr/local/lib/python3.10/dist-packages (from moviepy) (0.5.1)\n",
            "Requirement already satisfied: pillow>=8.3.2 in /usr/local/lib/python3.10/dist-packages (from imageio<3.0,>=2.5->moviepy) (9.4.0)\n",
            "Requirement already satisfied: setuptools in /usr/local/lib/python3.10/dist-packages (from imageio-ffmpeg>=0.2.0->moviepy) (71.0.4)\n",
            "Requirement already satisfied: charset-normalizer<4,>=2 in /usr/local/lib/python3.10/dist-packages (from requests<3.0,>=2.8.1->moviepy) (3.3.2)\n",
            "Requirement already satisfied: idna<4,>=2.5 in /usr/local/lib/python3.10/dist-packages (from requests<3.0,>=2.8.1->moviepy) (3.7)\n",
            "Requirement already satisfied: urllib3<3,>=1.21.1 in /usr/local/lib/python3.10/dist-packages (from requests<3.0,>=2.8.1->moviepy) (2.0.7)\n",
            "Requirement already satisfied: certifi>=2017.4.17 in /usr/local/lib/python3.10/dist-packages (from requests<3.0,>=2.8.1->moviepy) (2024.7.4)\n",
            "--2024-08-10 12:39:58--  https://randomuser.me/api/portraits/men/1.jpg\n",
            "Resolving randomuser.me (randomuser.me)... 172.67.156.167, 104.21.90.128, 2606:4700:3036::6815:5a80, ...\n",
            "Connecting to randomuser.me (randomuser.me)|172.67.156.167|:443... connected.\n",
            "HTTP request sent, awaiting response... 200 OK\n",
            "Length: 3598 (3.5K) [image/jpeg]\n",
            "Saving to: ‘1.jpg’\n",
            "\n",
            "1.jpg               100%[===================>]   3.51K  --.-KB/s    in 0s      \n",
            "\n",
            "2024-08-10 12:39:58 (56.6 MB/s) - ‘1.jpg’ saved [3598/3598]\n",
            "\n"
          ]
        }
      ]
    },
    {
      "cell_type": "code",
      "source": [
        "# Clone the Wav2Lip repository\n",
        "!git clone https://github.com/Rudrabha/Wav2Lip.git\n",
        "%cd Wav2Lip\n",
        "\n",
        "# Install dependencies\n",
        "!pip install -r requirements.txt\n",
        "\n",
        "# Download the pre-trained Wav2Lip model\n",
        "!gdown --id 1MHPJlih2tkfFM7vKP-UlC-g9sGZrU7bI -O Wav2Lip.pth"
      ],
      "metadata": {
        "colab": {
          "base_uri": "https://localhost:8080/"
        },
        "collapsed": true,
        "id": "HuYO2pJATbJX",
        "outputId": "aaae0e01-eb6b-4c26-915c-c0e2bd5c1995"
      },
      "execution_count": 8,
      "outputs": [
        {
          "output_type": "stream",
          "name": "stdout",
          "text": [
            "Cloning into 'Wav2Lip'...\n",
            "remote: Enumerating objects: 381, done.\u001b[K\n",
            "remote: Counting objects: 100% (3/3), done.\u001b[K\n",
            "remote: Compressing objects: 100% (3/3), done.\u001b[K\n",
            "remote: Total 381 (delta 0), reused 1 (delta 0), pack-reused 378\u001b[K\n",
            "Receiving objects: 100% (381/381), 534.01 KiB | 14.83 MiB/s, done.\n",
            "Resolving deltas: 100% (210/210), done.\n",
            "/content/Wav2Lip\n",
            "Collecting librosa==0.7.0 (from -r requirements.txt (line 1))\n",
            "  Downloading librosa-0.7.0.tar.gz (1.6 MB)\n",
            "\u001b[2K     \u001b[90m━━━━━━━━━━━━━━━━━━━━━━━━━━━━━━━━━━━━━━━━\u001b[0m \u001b[32m1.6/1.6 MB\u001b[0m \u001b[31m30.1 MB/s\u001b[0m eta \u001b[36m0:00:00\u001b[0m\n",
            "\u001b[?25h  Preparing metadata (setup.py) ... \u001b[?25l\u001b[?25hdone\n",
            "Collecting numpy==1.17.1 (from -r requirements.txt (line 2))\n",
            "  Downloading numpy-1.17.1.zip (6.5 MB)\n",
            "\u001b[2K     \u001b[90m━━━━━━━━━━━━━━━━━━━━━━━━━━━━━━━━━━━━━━━━\u001b[0m \u001b[32m6.5/6.5 MB\u001b[0m \u001b[31m65.2 MB/s\u001b[0m eta \u001b[36m0:00:00\u001b[0m\n",
            "\u001b[?25h  Preparing metadata (setup.py) ... \u001b[?25l\u001b[?25hdone\n",
            "Requirement already satisfied: opencv-contrib-python>=4.2.0.34 in /usr/local/lib/python3.10/dist-packages (from -r requirements.txt (line 3)) (4.10.0.84)\n",
            "\u001b[31mERROR: Ignored the following yanked versions: 3.4.11.39, 3.4.17.61, 4.4.0.42, 4.4.0.44, 4.5.4.58, 4.5.5.62, 4.7.0.68\u001b[0m\u001b[31m\n",
            "\u001b[0m\u001b[31mERROR: Could not find a version that satisfies the requirement opencv-python==4.1.0.25 (from versions: 3.4.0.14, 3.4.10.37, 3.4.11.41, 3.4.11.43, 3.4.11.45, 3.4.13.47, 3.4.15.55, 3.4.16.57, 3.4.16.59, 3.4.17.63, 3.4.18.65, 4.3.0.38, 4.4.0.40, 4.4.0.46, 4.5.1.48, 4.5.3.56, 4.5.4.60, 4.5.5.64, 4.6.0.66, 4.7.0.72, 4.8.0.74, 4.8.0.76, 4.8.1.78, 4.9.0.80, 4.10.0.82, 4.10.0.84)\u001b[0m\u001b[31m\n",
            "\u001b[0m\u001b[31mERROR: No matching distribution found for opencv-python==4.1.0.25\u001b[0m\u001b[31m\n",
            "\u001b[0m/usr/local/lib/python3.10/dist-packages/gdown/__main__.py:132: FutureWarning: Option `--id` was deprecated in version 4.3.1 and will be removed in 5.0. You don't need to pass it anymore to use a file ID.\n",
            "  warnings.warn(\n",
            "Failed to retrieve file url:\n",
            "\n",
            "\tCannot retrieve the public link of the file. You may need to change\n",
            "\tthe permission to 'Anyone with the link', or have had many accesses.\n",
            "\tCheck FAQ in https://github.com/wkentaro/gdown?tab=readme-ov-file#faq.\n",
            "\n",
            "You may still be able to access the file from the browser:\n",
            "\n",
            "\thttps://drive.google.com/uc?id=1MHPJlih2tkfFM7vKP-UlC-g9sGZrU7bI\n",
            "\n",
            "but Gdown can't. Please check connections and permissions.\n"
          ]
        }
      ]
    },
    {
      "cell_type": "code",
      "source": [
        "from google.colab import files\n",
        "\n",
        "# Upload your image and audio files\n",
        "uploaded = files.upload()\n",
        "\n",
        "image_path = \"1.jpg\"  # Replace with your image file name\n",
        "audio_path = \"pdf_to_speech.mp3\"  # Replace with your audio file name\n",
        "\n",
        "#Do not use if files are already installed or available in ur google colab environment"
      ],
      "metadata": {
        "id": "POlZF-H5TsuA"
      },
      "execution_count": null,
      "outputs": []
    },
    {
      "cell_type": "code",
      "source": [
        "!pip install pydub\n",
        "from pydub import AudioSegment"
      ],
      "metadata": {
        "colab": {
          "base_uri": "https://localhost:8080/"
        },
        "collapsed": true,
        "id": "OEp5KibIT3OQ",
        "outputId": "5a5bd3e7-ce68-400e-95a5-77c7fc643831"
      },
      "execution_count": 9,
      "outputs": [
        {
          "output_type": "stream",
          "name": "stdout",
          "text": [
            "Collecting pydub\n",
            "  Downloading pydub-0.25.1-py2.py3-none-any.whl.metadata (1.4 kB)\n",
            "Downloading pydub-0.25.1-py2.py3-none-any.whl (32 kB)\n",
            "Installing collected packages: pydub\n",
            "Successfully installed pydub-0.25.1\n"
          ]
        }
      ]
    },
    {
      "cell_type": "code",
      "source": [
        "# File paths\n",
        "mp3_path = \"/content/pdf_to_speech.mp3\"\n",
        "wav_path = \"/content/audio.wav\"\n",
        "\n",
        "# Check if the MP3 file exists\n",
        "if os.path.exists(mp3_path):\n",
        "    try:\n",
        "        # Convert MP3 to WAV\n",
        "        audio = AudioSegment.from_mp3(mp3_path)\n",
        "        audio.export(wav_path, format=\"wav\")\n",
        "        print(\"Conversion successful. WAV file created.\")\n",
        "    except Exception as e:\n",
        "        print(f\"Error during conversion: {e}\")\n",
        "else:\n",
        "    print(f\"MP3 file not found at {mp3_path}\")"
      ],
      "metadata": {
        "colab": {
          "base_uri": "https://localhost:8080/"
        },
        "id": "42Mu6exfT9ro",
        "outputId": "6df4032f-1c18-497b-93a5-d85fe1edde0d"
      },
      "execution_count": 10,
      "outputs": [
        {
          "output_type": "stream",
          "name": "stdout",
          "text": [
            "Conversion successful. WAV file created.\n"
          ]
        }
      ]
    },
    {
      "cell_type": "code",
      "source": [
        "from google.colab import files\n",
        "\n",
        "uploaded = files.upload()\n",
        "\n",
        "# After uploading, move the file to the desired directory\n",
        "import shutil\n",
        "\n",
        "shutil.move('wav2lip_gan.pth', '/content/Wav2Lip/checkpoints/wav2lip_gan.pth')"
      ],
      "metadata": {
        "id": "CnQI3g02UET_"
      },
      "execution_count": null,
      "outputs": []
    },
    {
      "cell_type": "code",
      "source": [
        "from google.colab import drive\n",
        "drive.mount('/content/drive')\n",
        "#This step u can do manuaally"
      ],
      "metadata": {
        "colab": {
          "base_uri": "https://localhost:8080/"
        },
        "id": "mXSZuYgpUKiW",
        "outputId": "47f9a983-d29b-4784-8b4f-ec52be9a58c5"
      },
      "execution_count": 12,
      "outputs": [
        {
          "output_type": "stream",
          "name": "stdout",
          "text": [
            "Drive already mounted at /content/drive; to attempt to forcibly remount, call drive.mount(\"/content/drive\", force_remount=True).\n"
          ]
        }
      ]
    },
    {
      "cell_type": "code",
      "source": [
        "import os\n",
        "video_path = '/content/1.jpg'\n",
        "audio_path = '/content/audio.wav'\n",
        "checkpoint_path = '/content/Wav2Lip/checkpoints/wav2lip_gan.pth'\n",
        "outfile_path = '/content/result_video.mp4'\n",
        "\n",
        "print(f\"Video file exists: {os.path.isfile(video_path)}\")\n",
        "print(f\"Audio file exists: {os.path.isfile(audio_path)}\")\n",
        "print(f\"Checkpoint file exists: {os.path.isfile(checkpoint_path)}\")\n",
        "\n",
        "\n",
        "#  /content/drive/MyDrive/Colab Notebooks/wav2lip_gan.pth\n",
        "#Afer mounting google drive with google colab we can use the above path."
      ],
      "metadata": {
        "colab": {
          "base_uri": "https://localhost:8080/"
        },
        "id": "h8ZB38m8UYaz",
        "outputId": "9730b945-1179-4020-b162-8bddf7f27174"
      },
      "execution_count": 17,
      "outputs": [
        {
          "output_type": "stream",
          "name": "stdout",
          "text": [
            "Video file exists: True\n",
            "Audio file exists: True\n",
            "Checkpoint file exists: True\n"
          ]
        }
      ]
    },
    {
      "cell_type": "code",
      "source": [
        "# Copy the file from Google Drive to the desired location in Colab\n",
        "!cp /content/drive/MyDrive/Colab\\ Notebooks/wav2lip_gan.pth /content/Wav2Lip/checkpoints/wav2lip_gan.pth\n"
      ],
      "metadata": {
        "id": "TFYm051HXqWn"
      },
      "execution_count": 19,
      "outputs": []
    },
    {
      "cell_type": "code",
      "source": [
        "# List the contents of the target directory to confirm the file has been copied\n",
        "!ls -l /content/Wav2Lip/checkpoints/\n"
      ],
      "metadata": {
        "colab": {
          "base_uri": "https://localhost:8080/"
        },
        "collapsed": true,
        "id": "0f_8sotuXt9w",
        "outputId": "160eb2b0-cc13-4c35-c54a-4a2b73992ac8"
      },
      "execution_count": 20,
      "outputs": [
        {
          "output_type": "stream",
          "name": "stdout",
          "text": [
            "total 425596\n",
            "-rw-r--r-- 1 root root        46 Aug 10 12:40 README.md\n",
            "-rw------- 1 root root 435801865 Aug 10 12:58 wav2lip_gan.pth\n"
          ]
        }
      ]
    },
    {
      "cell_type": "code",
      "source": [
        "# Run the Wav2Lip model\n",
        "!python /content/Wav2Lip/inference.py --checkpoint_path /content/Wav2Lip/checkpoints/wav2lip_gan.pth --face /content/1.jpg --audio /content/audio.wav --outfile /content/PDFtoVideo_result_video.mp4"
      ],
      "metadata": {
        "colab": {
          "base_uri": "https://localhost:8080/"
        },
        "collapsed": true,
        "id": "9H2jyAeVUnF5",
        "outputId": "2be2bb51-290d-43a5-e61c-17e5e8db8efc"
      },
      "execution_count": 22,
      "outputs": [
        {
          "output_type": "stream",
          "name": "stdout",
          "text": [
            "Using cuda for inference.\n",
            "Number of frames available for inference: 1\n",
            "(80, 135495)\n",
            "Length of mel chunks: 42339\n",
            "  0% 0/331 [00:00<?, ?it/s]Downloading: \"https://www.adrianbulat.com/downloads/python-fan/s3fd-619a316812.pth\" to /root/.cache/torch/hub/checkpoints/s3fd-619a316812.pth\n",
            "\n",
            "  0% 0.00/85.7M [00:00<?, ?B/s]\u001b[A\n",
            "  0% 128k/85.7M [00:00<03:09, 472kB/s]\u001b[A\n",
            "  0% 256k/85.7M [00:00<02:14, 667kB/s]\u001b[A\n",
            "  1% 512k/85.7M [00:00<01:19, 1.12MB/s]\u001b[A\n",
            "  1% 896k/85.7M [00:00<00:51, 1.71MB/s]\u001b[A\n",
            "  2% 1.75M/85.7M [00:00<00:26, 3.33MB/s]\u001b[A\n",
            "  4% 3.50M/85.7M [00:00<00:13, 6.49MB/s]\u001b[A\n",
            "  8% 7.00M/85.7M [00:01<00:06, 12.7MB/s]\u001b[A\n",
            " 12% 10.0M/85.7M [00:01<00:05, 15.8MB/s]\u001b[A\n",
            " 15% 12.8M/85.7M [00:01<00:04, 17.3MB/s]\u001b[A\n",
            " 18% 15.8M/85.7M [00:01<00:03, 18.9MB/s]\u001b[A\n",
            " 22% 19.0M/85.7M [00:01<00:03, 20.5MB/s]\u001b[A\n",
            " 26% 22.1M/85.7M [00:01<00:03, 21.4MB/s]\u001b[A\n",
            " 29% 24.9M/85.7M [00:01<00:03, 21.2MB/s]\u001b[A\n",
            " 32% 27.6M/85.7M [00:02<00:02, 21.0MB/s]\u001b[A\n",
            " 36% 31.0M/85.7M [00:02<00:02, 22.3MB/s]\u001b[A\n",
            " 40% 34.0M/85.7M [00:02<00:02, 22.4MB/s]\u001b[A\n",
            " 43% 36.8M/85.7M [00:02<00:02, 21.9MB/s]\u001b[A\n",
            " 47% 40.4M/85.7M [00:02<00:02, 23.5MB/s]\u001b[A\n",
            " 51% 43.8M/85.7M [00:02<00:01, 24.0MB/s]\u001b[A\n",
            " 55% 47.0M/85.7M [00:02<00:01, 24.1MB/s]\u001b[A\n",
            " 59% 50.5M/85.7M [00:03<00:01, 24.8MB/s]\u001b[A\n",
            " 63% 53.8M/85.7M [00:03<00:01, 24.7MB/s]\u001b[A\n",
            " 66% 56.9M/85.7M [00:03<00:01, 24.3MB/s]\u001b[A\n",
            " 70% 60.1M/85.7M [00:03<00:01, 24.3MB/s]\u001b[A\n",
            " 74% 63.2M/85.7M [00:03<00:00, 24.1MB/s]\u001b[A\n",
            " 78% 66.6M/85.7M [00:03<00:00, 24.4MB/s]\u001b[A\n",
            " 81% 69.8M/85.7M [00:03<00:00, 24.1MB/s]\u001b[A\n",
            " 85% 73.0M/85.7M [00:04<00:00, 24.2MB/s]\u001b[A\n",
            " 89% 76.2M/85.7M [00:04<00:00, 24.3MB/s]\u001b[A\n",
            " 93% 79.5M/85.7M [00:04<00:00, 24.3MB/s]\u001b[A\n",
            "100% 85.7M/85.7M [00:04<00:00, 19.9MB/s]\n",
            "\n",
            "  0% 0/1 [00:00<?, ?it/s]\u001b[A\n",
            "100% 1/1 [00:01<00:00,  1.78s/it]\n",
            "Load checkpoint from: /content/Wav2Lip/checkpoints/wav2lip_gan.pth\n",
            "Model loaded\n",
            "100% 331/331 [02:31<00:00,  2.18it/s]\n",
            "ffmpeg version 4.4.2-0ubuntu0.22.04.1 Copyright (c) 2000-2021 the FFmpeg developers\n",
            "  built with gcc 11 (Ubuntu 11.2.0-19ubuntu1)\n",
            "  configuration: --prefix=/usr --extra-version=0ubuntu0.22.04.1 --toolchain=hardened --libdir=/usr/lib/x86_64-linux-gnu --incdir=/usr/include/x86_64-linux-gnu --arch=amd64 --enable-gpl --disable-stripping --enable-gnutls --enable-ladspa --enable-libaom --enable-libass --enable-libbluray --enable-libbs2b --enable-libcaca --enable-libcdio --enable-libcodec2 --enable-libdav1d --enable-libflite --enable-libfontconfig --enable-libfreetype --enable-libfribidi --enable-libgme --enable-libgsm --enable-libjack --enable-libmp3lame --enable-libmysofa --enable-libopenjpeg --enable-libopenmpt --enable-libopus --enable-libpulse --enable-librabbitmq --enable-librubberband --enable-libshine --enable-libsnappy --enable-libsoxr --enable-libspeex --enable-libsrt --enable-libssh --enable-libtheora --enable-libtwolame --enable-libvidstab --enable-libvorbis --enable-libvpx --enable-libwebp --enable-libx265 --enable-libxml2 --enable-libxvid --enable-libzimg --enable-libzmq --enable-libzvbi --enable-lv2 --enable-omx --enable-openal --enable-opencl --enable-opengl --enable-sdl2 --enable-pocketsphinx --enable-librsvg --enable-libmfx --enable-libdc1394 --enable-libdrm --enable-libiec61883 --enable-chromaprint --enable-frei0r --enable-libx264 --enable-shared\n",
            "  libavutil      56. 70.100 / 56. 70.100\n",
            "  libavcodec     58.134.100 / 58.134.100\n",
            "  libavformat    58. 76.100 / 58. 76.100\n",
            "  libavdevice    58. 13.100 / 58. 13.100\n",
            "  libavfilter     7.110.100 /  7.110.100\n",
            "  libswscale      5.  9.100 /  5.  9.100\n",
            "  libswresample   3.  9.100 /  3.  9.100\n",
            "  libpostproc    55.  9.100 / 55.  9.100\n",
            "\u001b[0;33mGuessed Channel Layout for Input Stream #0.0 : mono\n",
            "\u001b[0mInput #0, wav, from '/content/audio.wav':\n",
            "  Duration: 00:28:13.68, bitrate: 384 kb/s\n",
            "  Stream #0:0: Audio: pcm_s16le ([1][0][0][0] / 0x0001), 24000 Hz, mono, s16, 384 kb/s\n",
            "Input #1, avi, from 'temp/result.avi':\n",
            "  Metadata:\n",
            "    software        : Lavf59.27.100\n",
            "  Duration: 00:28:13.56, start: 0.000000, bitrate: 75 kb/s\n",
            "  Stream #1:0: Video: mpeg4 (Simple Profile) (DIVX / 0x58564944), yuv420p, 128x128 [SAR 1:1 DAR 1:1], 70 kb/s, 25 fps, 25 tbr, 25 tbn, 25 tbc\n",
            "Stream mapping:\n",
            "  Stream #1:0 -> #0:0 (mpeg4 (native) -> h264 (libx264))\n",
            "  Stream #0:0 -> #0:1 (pcm_s16le (native) -> aac (native))\n",
            "Press [q] to stop, [?] for help\n",
            "\u001b[1;36m[libx264 @ 0x5b498a95e780] \u001b[0m\u001b[0;33m-qscale is ignored, -crf is recommended.\n",
            "\u001b[0m\u001b[1;36m[libx264 @ 0x5b498a95e780] \u001b[0musing SAR=1/1\n",
            "\u001b[1;36m[libx264 @ 0x5b498a95e780] \u001b[0musing cpu capabilities: MMX2 SSE2Fast SSSE3 SSE4.2 AVX FMA3 BMI2 AVX2\n",
            "\u001b[1;36m[libx264 @ 0x5b498a95e780] \u001b[0mprofile High, level 1.1, 4:2:0, 8-bit\n",
            "\u001b[1;36m[libx264 @ 0x5b498a95e780] \u001b[0m264 - core 163 r3060 5db6aa6 - H.264/MPEG-4 AVC codec - Copyleft 2003-2021 - http://www.videolan.org/x264.html - options: cabac=1 ref=3 deblock=1:0:0 analyse=0x3:0x113 me=hex subme=7 psy=1 psy_rd=1.00:0.00 mixed_ref=1 me_range=16 chroma_me=1 trellis=1 8x8dct=1 cqm=0 deadzone=21,11 fast_pskip=1 chroma_qp_offset=-2 threads=3 lookahead_threads=1 sliced_threads=0 nr=0 decimate=1 interlaced=0 bluray_compat=0 constrained_intra=0 bframes=3 b_pyramid=2 b_adapt=1 b_bias=0 direct=1 weightb=1 open_gop=0 weightp=2 keyint=250 keyint_min=25 scenecut=40 intra_refresh=0 rc_lookahead=40 rc=crf mbtree=1 crf=23.0 qcomp=0.60 qpmin=0 qpmax=69 qpstep=4 ip_ratio=1.40 aq=1:1.00\n",
            "Output #0, mp4, to '/content/PDFtoVideo_result_video.mp4':\n",
            "  Metadata:\n",
            "    encoder         : Lavf58.76.100\n",
            "  Stream #0:0: Video: h264 (avc1 / 0x31637661), yuv420p(progressive), 128x128 [SAR 1:1 DAR 1:1], q=2-31, 25 fps, 12800 tbn\n",
            "    Metadata:\n",
            "      encoder         : Lavc58.134.100 libx264\n",
            "    Side data:\n",
            "      cpb: bitrate max/min/avg: 0/0/0 buffer size: 0 vbv_delay: N/A\n",
            "  Stream #0:1: Audio: aac (LC) (mp4a / 0x6134706D), 24000 Hz, mono, fltp, 69 kb/s\n",
            "    Metadata:\n",
            "      encoder         : Lavc58.134.100 aac\n",
            "frame=42339 fps=1323 q=-1.0 Lsize=   18691kB time=00:28:13.65 bitrate=  90.4kbits/s speed=52.9x    \n",
            "video:3196kB audio:14579kB subtitle:0kB other streams:0kB global headers:0kB muxing overhead: 5.149710%\n",
            "\u001b[1;36m[libx264 @ 0x5b498a95e780] \u001b[0mframe I:170   Avg QP:16.73  size:  2974\n",
            "\u001b[1;36m[libx264 @ 0x5b498a95e780] \u001b[0mframe P:25819 Avg QP:19.58  size:    89\n",
            "\u001b[1;36m[libx264 @ 0x5b498a95e780] \u001b[0mframe B:16350 Avg QP:26.47  size:    28\n",
            "\u001b[1;36m[libx264 @ 0x5b498a95e780] \u001b[0mconsecutive B-frames: 40.9% 17.5% 16.1% 25.6%\n",
            "\u001b[1;36m[libx264 @ 0x5b498a95e780] \u001b[0mmb I  I16..4: 12.9% 79.5%  7.6%\n",
            "\u001b[1;36m[libx264 @ 0x5b498a95e780] \u001b[0mmb P  I16..4:  0.0%  0.1%  0.0%  P16..4:  5.7%  3.8%  2.5%  0.0%  0.0%    skip:87.9%\n",
            "\u001b[1;36m[libx264 @ 0x5b498a95e780] \u001b[0mmb B  I16..4:  0.0%  0.0%  0.0%  B16..8:  5.1%  1.2%  0.3%  direct: 0.3%  skip:93.1%  L0:52.7% L1:42.2% BI: 5.2%\n",
            "\u001b[1;36m[libx264 @ 0x5b498a95e780] \u001b[0m8x8 transform intra:79.3% inter:62.3%\n",
            "\u001b[1;36m[libx264 @ 0x5b498a95e780] \u001b[0mcoded y,uvDC,uvAC intra: 73.7% 79.4% 58.0% inter: 3.2% 2.4% 0.2%\n",
            "\u001b[1;36m[libx264 @ 0x5b498a95e780] \u001b[0mi16 v,h,dc,p: 41% 30% 28%  1%\n",
            "\u001b[1;36m[libx264 @ 0x5b498a95e780] \u001b[0mi8 v,h,dc,ddl,ddr,vr,hd,vl,hu: 27% 19% 19%  9%  3%  6%  5%  4%  9%\n",
            "\u001b[1;36m[libx264 @ 0x5b498a95e780] \u001b[0mi4 v,h,dc,ddl,ddr,vr,hd,vl,hu: 40% 26% 12%  3%  4%  3%  4%  4%  4%\n",
            "\u001b[1;36m[libx264 @ 0x5b498a95e780] \u001b[0mi8c dc,h,v,p: 48% 10% 38%  4%\n",
            "\u001b[1;36m[libx264 @ 0x5b498a95e780] \u001b[0mWeighted P-Frames: Y:0.0% UV:0.0%\n",
            "\u001b[1;36m[libx264 @ 0x5b498a95e780] \u001b[0mref P L0: 67.9% 14.5% 10.4%  7.1%\n",
            "\u001b[1;36m[libx264 @ 0x5b498a95e780] \u001b[0mref B L0: 84.9% 12.0%  3.1%\n",
            "\u001b[1;36m[libx264 @ 0x5b498a95e780] \u001b[0mref B L1: 97.3%  2.7%\n",
            "\u001b[1;36m[libx264 @ 0x5b498a95e780] \u001b[0mkb/s:15.46\n",
            "\u001b[1;36m[aac @ 0x5b498a9607c0] \u001b[0mQavg: 10481.288\n"
          ]
        }
      ]
    },
    {
      "cell_type": "code",
      "source": [
        "# Download the generated video\n",
        "from google.colab import files\n",
        "files.download(\"/content/PDFtoVideo_result_video.mp4\")"
      ],
      "metadata": {
        "colab": {
          "base_uri": "https://localhost:8080/",
          "height": 17
        },
        "id": "nVJMCLxgUrv4",
        "outputId": "d2418086-2646-4511-9090-4869988b9b45"
      },
      "execution_count": 24,
      "outputs": [
        {
          "output_type": "display_data",
          "data": {
            "text/plain": [
              "<IPython.core.display.Javascript object>"
            ],
            "application/javascript": [
              "\n",
              "    async function download(id, filename, size) {\n",
              "      if (!google.colab.kernel.accessAllowed) {\n",
              "        return;\n",
              "      }\n",
              "      const div = document.createElement('div');\n",
              "      const label = document.createElement('label');\n",
              "      label.textContent = `Downloading \"${filename}\": `;\n",
              "      div.appendChild(label);\n",
              "      const progress = document.createElement('progress');\n",
              "      progress.max = size;\n",
              "      div.appendChild(progress);\n",
              "      document.body.appendChild(div);\n",
              "\n",
              "      const buffers = [];\n",
              "      let downloaded = 0;\n",
              "\n",
              "      const channel = await google.colab.kernel.comms.open(id);\n",
              "      // Send a message to notify the kernel that we're ready.\n",
              "      channel.send({})\n",
              "\n",
              "      for await (const message of channel.messages) {\n",
              "        // Send a message to notify the kernel that we're ready.\n",
              "        channel.send({})\n",
              "        if (message.buffers) {\n",
              "          for (const buffer of message.buffers) {\n",
              "            buffers.push(buffer);\n",
              "            downloaded += buffer.byteLength;\n",
              "            progress.value = downloaded;\n",
              "          }\n",
              "        }\n",
              "      }\n",
              "      const blob = new Blob(buffers, {type: 'application/binary'});\n",
              "      const a = document.createElement('a');\n",
              "      a.href = window.URL.createObjectURL(blob);\n",
              "      a.download = filename;\n",
              "      div.appendChild(a);\n",
              "      a.click();\n",
              "      div.remove();\n",
              "    }\n",
              "  "
            ]
          },
          "metadata": {}
        },
        {
          "output_type": "display_data",
          "data": {
            "text/plain": [
              "<IPython.core.display.Javascript object>"
            ],
            "application/javascript": [
              "download(\"download_d6375b00-0c83-4a88-8524-564f3ba58c59\", \"PDFtoVideo_result_video.mp4\", 19139222)"
            ]
          },
          "metadata": {}
        }
      ]
    }
  ]
}